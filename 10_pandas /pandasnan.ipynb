{
 "cells": [
  {
   "cell_type": "code",
   "execution_count": 1,
   "metadata": {},
   "outputs": [
    {
     "name": "stdout",
     "output_type": "stream",
     "text": [
      "     A    B    C\n",
      "0  1.0  2.4  foo\n",
      "1  2.0  6.2  zoo\n",
      "2  3.0  5.1  bar\n",
      "3  NaN  NaN  NaN\n"
     ]
    }
   ],
   "source": [
    "import numpy as np\n",
    "import pandas as pd\n",
    "\n",
    "df = pd.DataFrame({\n",
    "    \"A\": [1, 2, 3, np.nan],\n",
    "    \"B\": [2.4, 6.2, 5.1, np.nan],\n",
    "    \"C\": [\"foo\",\"zoo\",\"bar\", np.nan]\n",
    "})\n",
    "print(df)"
   ]
  },
  {
   "cell_type": "code",
   "execution_count": 2,
   "metadata": {},
   "outputs": [
    {
     "name": "stdout",
     "output_type": "stream",
     "text": [
      "      A    B    C\n",
      "0     1  2.4  foo\n",
      "1     2  6.2  zoo\n",
      "2     3  5.1  bar\n",
      "3  <NA>  NaN  NaN\n"
     ]
    }
   ],
   "source": [
    "df = pd.DataFrame({\n",
    "    \"A\": [1, 2, 3, np.nan],\n",
    "    \"B\": [2.4, 6.2, 5.1, np.nan],\n",
    "    \"C\": [\"foo\",\"zoo\",\"bar\", np.nan]\n",
    "})\n",
    "\n",
    "df[\"A\"] = df[\"A\"].astype(pd.Int64Dtype())\n",
    "print(df)"
   ]
  },
  {
   "cell_type": "code",
   "execution_count": 4,
   "metadata": {},
   "outputs": [
    {
     "name": "stdout",
     "output_type": "stream",
     "text": [
      "     A    B    C     D\n",
      "0  1.0  2.4  NaN  11.5\n",
      "1  2.0  NaN  foo   NaN\n",
      "2  3.0  5.1  zoo   6.2\n",
      "3  NaN  NaN  bar  21.1\n",
      "4  7.0  2.6  NaN   8.7\n",
      "       A      B      C      D\n",
      "0  False  False   True  False\n",
      "1  False   True  False   True\n",
      "2  False  False  False  False\n",
      "3   True   True  False  False\n",
      "4  False  False   True  False\n"
     ]
    }
   ],
   "source": [
    "df = pd.DataFrame({\n",
    "    \"A\": [1, 2, 3, np.nan, 7],\n",
    "    \"B\": [2.4, np.nan, 5.1, np.nan, 2.6],\n",
    "    \"C\": [np.nan, \"foo\",\"zoo\",\"bar\", np.nan],\n",
    "    \"D\": [11.5, np.nan, 6.2, 21.1, 8.7]\n",
    "})\n",
    "print(df)\n",
    "print(df.isna())"
   ]
  },
  {
   "cell_type": "code",
   "execution_count": null,
   "metadata": {},
   "outputs": [
    {
     "name": "stdout",
     "output_type": "stream",
     "text": [
      "A    1\n",
      "B    2\n",
      "C    2\n",
      "D    1\n",
      "dtype: int64\n"
     ]
    }
   ],
   "source": [
    "df = pd.DataFrame({\n",
    "    \"A\": [1, 2, 3, np.nan, 7],\n",
    "    \"B\": [2.4, np.nan, 5.1, np.nan, 2.6],\n",
    "    \"C\": [np.nan, \"foo\",\"zoo\",\"bar\", np.nan],\n",
    "    \"D\": [11.5, np.nan, 6.2, 21.1, 8.7]\n",
    "})\n",
    "print(df)\n",
    "print(df.isna().sum())"
   ]
  },
  {
   "cell_type": "code",
   "execution_count": 7,
   "metadata": {},
   "outputs": [
    {
     "name": "stdout",
     "output_type": "stream",
     "text": [
      "     A    B    C     D\n",
      "0  1.0  2.4  NaN  11.5\n",
      "1  2.0  NaN  foo   NaN\n",
      "2  3.0  5.1  zoo   6.2\n",
      "3  NaN  NaN  bar  21.1\n",
      "4  7.0  2.6  NaN   8.7\n",
      "0    1\n",
      "1    2\n",
      "2    0\n",
      "3    2\n",
      "4    1\n",
      "dtype: int64\n"
     ]
    }
   ],
   "source": [
    "df = pd.DataFrame({\n",
    "    \"A\": [1, 2, 3, np.nan, 7],\n",
    "    \"B\": [2.4, np.nan, 5.1, np.nan, 2.6],\n",
    "    \"C\": [np.nan, \"foo\",\"zoo\",\"bar\", np.nan],\n",
    "    \"D\": [11.5, np.nan, 6.2, 21.1, 8.7]\n",
    "})\n",
    "print(df)\n",
    "print(df.isna().sum(axis=1))"
   ]
  },
  {
   "cell_type": "code",
   "execution_count": 8,
   "metadata": {},
   "outputs": [
    {
     "name": "stdout",
     "output_type": "stream",
     "text": [
      "A    4\n",
      "B    3\n",
      "C    3\n",
      "D    4\n",
      "dtype: int64\n"
     ]
    }
   ],
   "source": [
    "df = pd.DataFrame({\n",
    "    \"A\": [1, 2, 3, np.nan, 7],\n",
    "    \"B\": [2.4, np.nan, 5.1, np.nan, 2.6],\n",
    "    \"C\": [np.nan, \"foo\",\"zoo\",\"bar\", np.nan],\n",
    "    \"D\": [11.5, np.nan, 6.2, 21.1, 8.7]\n",
    "})\n",
    "\n",
    "print(df.notna().sum())"
   ]
  },
  {
   "cell_type": "code",
   "execution_count": 9,
   "metadata": {},
   "outputs": [
    {
     "name": "stdout",
     "output_type": "stream",
     "text": [
      "     A    B    C     D  E\n",
      "0  1.0  2.4  NaN  11.5  1\n",
      "1  2.0  NaN  foo   NaN  2\n",
      "2  3.0  5.1  zoo   6.2  3\n",
      "3  NaN  NaN  bar  21.1  4\n",
      "4  7.0  2.6  NaN   8.7  5\n",
      "\n",
      "\n",
      "     A    B    C    D  E\n",
      "2  3.0  5.1  zoo  6.2  3\n"
     ]
    }
   ],
   "source": [
    "df = pd.DataFrame({\n",
    "    \"A\": [1, 2, 3, np.nan, 7],\n",
    "    \"B\": [2.4, np.nan, 5.1, np.nan, 2.6],\n",
    "    \"C\": [np.nan, \"foo\",\"zoo\",\"bar\", np.nan],\n",
    "    \"D\": [11.5, np.nan, 6.2, 21.1, 8.7],\n",
    "    \"E\": [1, 2, 3, 4, 5]\n",
    "})\n",
    "print(df)\n",
    "# Drop rows that have at least one missing value\n",
    "print(\"\\n\")\n",
    "print(df.dropna(axis=0, how=\"any\"))"
   ]
  },
  {
   "cell_type": "code",
   "execution_count": 10,
   "metadata": {},
   "outputs": [
    {
     "name": "stdout",
     "output_type": "stream",
     "text": [
      "   E\n",
      "0  1\n",
      "1  2\n",
      "2  3\n",
      "3  4\n",
      "4  5\n"
     ]
    }
   ],
   "source": [
    "\n",
    "df = pd.DataFrame({\n",
    "    \"A\": [1, 2, 3, np.nan, 7],\n",
    "    \"B\": [2.4, np.nan, 5.1, np.nan, 2.6],\n",
    "    \"C\": [np.nan, \"foo\",\"zoo\",\"bar\", np.nan],\n",
    "    \"D\": [11.5, np.nan, 6.2, 21.1, 8.7],\n",
    "    \"E\": [1, 2, 3, 4, 5]\n",
    "})\n",
    "\n",
    "# Drop columns that have at least one missing value\n",
    "print(df.dropna(axis=1, how=\"any\"))"
   ]
  },
  {
   "cell_type": "code",
   "execution_count": 11,
   "metadata": {},
   "outputs": [
    {
     "data": {
      "text/html": [
       "<div>\n",
       "<style scoped>\n",
       "    .dataframe tbody tr th:only-of-type {\n",
       "        vertical-align: middle;\n",
       "    }\n",
       "\n",
       "    .dataframe tbody tr th {\n",
       "        vertical-align: top;\n",
       "    }\n",
       "\n",
       "    .dataframe thead th {\n",
       "        text-align: right;\n",
       "    }\n",
       "</style>\n",
       "<table border=\"1\" class=\"dataframe\">\n",
       "  <thead>\n",
       "    <tr style=\"text-align: right;\">\n",
       "      <th></th>\n",
       "      <th>A</th>\n",
       "      <th>B</th>\n",
       "      <th>C</th>\n",
       "      <th>D</th>\n",
       "      <th>E</th>\n",
       "    </tr>\n",
       "  </thead>\n",
       "  <tbody>\n",
       "    <tr>\n",
       "      <th>0</th>\n",
       "      <td>1.0</td>\n",
       "      <td>2.4</td>\n",
       "      <td>NaN</td>\n",
       "      <td>11.5</td>\n",
       "      <td>1</td>\n",
       "    </tr>\n",
       "    <tr>\n",
       "      <th>1</th>\n",
       "      <td>2.0</td>\n",
       "      <td>NaN</td>\n",
       "      <td>foo</td>\n",
       "      <td>NaN</td>\n",
       "      <td>2</td>\n",
       "    </tr>\n",
       "    <tr>\n",
       "      <th>2</th>\n",
       "      <td>3.0</td>\n",
       "      <td>5.1</td>\n",
       "      <td>zoo</td>\n",
       "      <td>6.2</td>\n",
       "      <td>3</td>\n",
       "    </tr>\n",
       "    <tr>\n",
       "      <th>3</th>\n",
       "      <td>NaN</td>\n",
       "      <td>NaN</td>\n",
       "      <td>bar</td>\n",
       "      <td>21.1</td>\n",
       "      <td>4</td>\n",
       "    </tr>\n",
       "    <tr>\n",
       "      <th>4</th>\n",
       "      <td>7.0</td>\n",
       "      <td>2.6</td>\n",
       "      <td>NaN</td>\n",
       "      <td>8.7</td>\n",
       "      <td>5</td>\n",
       "    </tr>\n",
       "  </tbody>\n",
       "</table>\n",
       "</div>"
      ],
      "text/plain": [
       "     A    B    C     D  E\n",
       "0  1.0  2.4  NaN  11.5  1\n",
       "1  2.0  NaN  foo   NaN  2\n",
       "2  3.0  5.1  zoo   6.2  3\n",
       "3  NaN  NaN  bar  21.1  4\n",
       "4  7.0  2.6  NaN   8.7  5"
      ]
     },
     "execution_count": 11,
     "metadata": {},
     "output_type": "execute_result"
    }
   ],
   "source": [
    "df"
   ]
  },
  {
   "cell_type": "code",
   "execution_count": 21,
   "metadata": {},
   "outputs": [
    {
     "name": "stderr",
     "output_type": "stream",
     "text": [
      "/var/folders/d_/rsnj8g2n4f362bxt3tz9n95w0000gn/T/ipykernel_2830/3381026564.py:1: FutureWarning: DataFrame.fillna with 'method' is deprecated and will raise in a future version. Use obj.ffill() or obj.bfill() instead.\n",
      "  df.fillna(method='bfill',axis=1)\n",
      "/var/folders/d_/rsnj8g2n4f362bxt3tz9n95w0000gn/T/ipykernel_2830/3381026564.py:1: FutureWarning: Downcasting object dtype arrays on .fillna, .ffill, .bfill is deprecated and will change in a future version. Call result.infer_objects(copy=False) instead. To opt-in to the future behavior, set `pd.set_option('future.no_silent_downcasting', True)`\n",
      "  df.fillna(method='bfill',axis=1)\n"
     ]
    },
    {
     "data": {
      "text/html": [
       "<div>\n",
       "<style scoped>\n",
       "    .dataframe tbody tr th:only-of-type {\n",
       "        vertical-align: middle;\n",
       "    }\n",
       "\n",
       "    .dataframe tbody tr th {\n",
       "        vertical-align: top;\n",
       "    }\n",
       "\n",
       "    .dataframe thead th {\n",
       "        text-align: right;\n",
       "    }\n",
       "</style>\n",
       "<table border=\"1\" class=\"dataframe\">\n",
       "  <thead>\n",
       "    <tr style=\"text-align: right;\">\n",
       "      <th></th>\n",
       "      <th>A</th>\n",
       "      <th>B</th>\n",
       "      <th>C</th>\n",
       "      <th>D</th>\n",
       "      <th>E</th>\n",
       "    </tr>\n",
       "  </thead>\n",
       "  <tbody>\n",
       "    <tr>\n",
       "      <th>0</th>\n",
       "      <td>1.0</td>\n",
       "      <td>2.4</td>\n",
       "      <td>11.5</td>\n",
       "      <td>11.5</td>\n",
       "      <td>1.0</td>\n",
       "    </tr>\n",
       "    <tr>\n",
       "      <th>1</th>\n",
       "      <td>2.0</td>\n",
       "      <td>foo</td>\n",
       "      <td>foo</td>\n",
       "      <td>2</td>\n",
       "      <td>2</td>\n",
       "    </tr>\n",
       "    <tr>\n",
       "      <th>2</th>\n",
       "      <td>3.0</td>\n",
       "      <td>5.1</td>\n",
       "      <td>zoo</td>\n",
       "      <td>6.2</td>\n",
       "      <td>3</td>\n",
       "    </tr>\n",
       "    <tr>\n",
       "      <th>3</th>\n",
       "      <td>bar</td>\n",
       "      <td>bar</td>\n",
       "      <td>bar</td>\n",
       "      <td>21.1</td>\n",
       "      <td>4</td>\n",
       "    </tr>\n",
       "    <tr>\n",
       "      <th>4</th>\n",
       "      <td>7.0</td>\n",
       "      <td>2.6</td>\n",
       "      <td>8.7</td>\n",
       "      <td>8.7</td>\n",
       "      <td>5.0</td>\n",
       "    </tr>\n",
       "  </tbody>\n",
       "</table>\n",
       "</div>"
      ],
      "text/plain": [
       "     A    B     C     D    E\n",
       "0  1.0  2.4  11.5  11.5  1.0\n",
       "1  2.0  foo   foo     2    2\n",
       "2  3.0  5.1   zoo   6.2    3\n",
       "3  bar  bar   bar  21.1    4\n",
       "4  7.0  2.6   8.7   8.7  5.0"
      ]
     },
     "execution_count": 21,
     "metadata": {},
     "output_type": "execute_result"
    }
   ],
   "source": [
    "df.fillna(method='bfill',axis=1)"
   ]
  },
  {
   "cell_type": "code",
   "execution_count": null,
   "metadata": {},
   "outputs": [],
   "source": [
    "#dropna\n",
    "#fillna\n",
    "#astype\n",
    "#drop\n",
    "#drop_duplicates"
   ]
  },
  {
   "cell_type": "code",
   "execution_count": null,
   "metadata": {},
   "outputs": [],
   "source": []
  }
 ],
 "metadata": {
  "kernelspec": {
   "display_name": "Python 3",
   "language": "python",
   "name": "python3"
  },
  "language_info": {
   "codemirror_mode": {
    "name": "ipython",
    "version": 3
   },
   "file_extension": ".py",
   "mimetype": "text/x-python",
   "name": "python",
   "nbconvert_exporter": "python",
   "pygments_lexer": "ipython3",
   "version": "3.12.2"
  },
  "orig_nbformat": 4
 },
 "nbformat": 4,
 "nbformat_minor": 2
}
