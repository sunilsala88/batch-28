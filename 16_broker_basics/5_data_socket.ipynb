{
 "cells": [
  {
   "cell_type": "code",
   "execution_count": 5,
   "metadata": {},
   "outputs": [],
   "source": [
    "# to run async code in jupyter notebook\n",
    "import nest_asyncio\n",
    "nest_asyncio.apply()"
   ]
  },
  {
   "cell_type": "markdown",
   "metadata": {},
   "source": [
    "# stock"
   ]
  },
  {
   "cell_type": "code",
   "execution_count": null,
   "metadata": {},
   "outputs": [],
   "source": [
    "\n",
    "\n",
    "from credentials import api_key,secret_key\n",
    "\n",
    "from alpaca.data.live.stock import StockDataStream\n",
    "stock_data_stream_client = StockDataStream(api_key, secret_key)\n",
    "\n",
    "async def stock_data_stream_handler(data):\n",
    "    print(data)\n",
    "\n",
    "symbol='TSLA'\n",
    "symbols = [symbol,'GOOG']\n",
    "\n",
    "# stock_data_stream_client.subscribe_quotes(stock_data_stream_handler, *symbols)\n",
    "stock_data_stream_client.subscribe_trades(stock_data_stream_handler, *symbols)\n",
    "\n",
    "stock_data_stream_client.run()"
   ]
  },
  {
   "cell_type": "markdown",
   "metadata": {},
   "source": [
    "# crypto"
   ]
  },
  {
   "cell_type": "code",
   "execution_count": null,
   "metadata": {},
   "outputs": [],
   "source": [
    "from alpaca.data.live.crypto import CryptoDataStream\n",
    "from credentials import api_key,secret_key\n",
    "crypto_data_stream_client=CryptoDataStream(api_key,secret_key)\n",
    "async def crypto_data_stream_handler(data):\n",
    "    print(data)\n",
    "symbol=['BTC/USD','ETH/USD']\n",
    "crypto_data_stream_client.subscribe_trades(crypto_data_stream_handler, *symbol)\n",
    "# crypto_data_stream_client.subscribe_quotes(crypto_data_stream_handler, *symbol)\n",
    "crypto_data_stream_client.run()"
   ]
  },
  {
   "cell_type": "markdown",
   "metadata": {},
   "source": [
    "# option"
   ]
  },
  {
   "cell_type": "code",
   "execution_count": null,
   "metadata": {},
   "outputs": [],
   "source": [
    "from alpaca.data.live.option import OptionDataStream\n",
    "from credentials import api_key, secret_key\n",
    "option_data_stream_client = OptionDataStream(api_key, secret_key)\n",
    "async def option_data_stream_handler(data):\n",
    "    print(data)\n",
    "symbol=['SPY241216C00605000']\n",
    "# option_data_stream_client.subscribe_quotes(option_data_stream_handler, *symbol)\n",
    "option_data_stream_client.subscribe_trades(option_data_stream_handler, *symbol)\n",
    "option_data_stream_client.run()"
   ]
  }
 ],
 "metadata": {
  "kernelspec": {
   "display_name": ".venv",
   "language": "python",
   "name": "python3"
  },
  "language_info": {
   "codemirror_mode": {
    "name": "ipython",
    "version": 3
   },
   "file_extension": ".py",
   "mimetype": "text/x-python",
   "name": "python",
   "nbconvert_exporter": "python",
   "pygments_lexer": "ipython3",
   "version": "3.12.2"
  }
 },
 "nbformat": 4,
 "nbformat_minor": 2
}
