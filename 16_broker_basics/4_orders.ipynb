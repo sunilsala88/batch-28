{
 "cells": [
  {
   "cell_type": "code",
   "execution_count": 1,
   "metadata": {},
   "outputs": [],
   "source": [
    "\n",
    "from alpaca.trading.client import TradingClient\n",
    "from credentials import api_key,secret_key\n",
    "trading_client = TradingClient(api_key, secret_key, paper=True)"
   ]
  },
  {
   "cell_type": "markdown",
   "metadata": {},
   "source": [
    "# market order"
   ]
  },
  {
   "cell_type": "code",
   "execution_count": 10,
   "metadata": {},
   "outputs": [
    {
     "data": {
      "text/plain": [
       "{   'asset_class': <AssetClass.US_EQUITY: 'us_equity'>,\n",
       "    'asset_id': UUID('b6d1aa75-5c9c-4353-a305-9e2caa1925ab'),\n",
       "    'canceled_at': None,\n",
       "    'client_order_id': '565d44d9-2b25-4b84-bbb3-c9e4f77665d5',\n",
       "    'created_at': datetime.datetime(2024, 12, 29, 13, 42, 11, 828367, tzinfo=TzInfo(UTC)),\n",
       "    'expired_at': None,\n",
       "    'extended_hours': False,\n",
       "    'failed_at': None,\n",
       "    'filled_at': None,\n",
       "    'filled_avg_price': None,\n",
       "    'filled_qty': '0',\n",
       "    'hwm': None,\n",
       "    'id': UUID('be14217d-304b-48c9-b722-36cc04ed007c'),\n",
       "    'legs': None,\n",
       "    'limit_price': None,\n",
       "    'notional': None,\n",
       "    'order_class': <OrderClass.SIMPLE: 'simple'>,\n",
       "    'order_type': <OrderType.MARKET: 'market'>,\n",
       "    'qty': '1',\n",
       "    'replaced_at': None,\n",
       "    'replaced_by': None,\n",
       "    'replaces': None,\n",
       "    'side': <OrderSide.SELL: 'sell'>,\n",
       "    'status': <OrderStatus.ACCEPTED: 'accepted'>,\n",
       "    'stop_price': None,\n",
       "    'submitted_at': datetime.datetime(2024, 12, 29, 13, 42, 11, 828367, tzinfo=TzInfo(UTC)),\n",
       "    'symbol': 'MSFT',\n",
       "    'time_in_force': <TimeInForce.GTC: 'gtc'>,\n",
       "    'trail_percent': None,\n",
       "    'trail_price': None,\n",
       "    'type': <OrderType.MARKET: 'market'>,\n",
       "    'updated_at': datetime.datetime(2024, 12, 29, 13, 42, 11, 830952, tzinfo=TzInfo(UTC))}"
      ]
     },
     "execution_count": 10,
     "metadata": {},
     "output_type": "execute_result"
    }
   ],
   "source": [
    "from alpaca.trading.requests import MarketOrderRequest\n",
    "from alpaca.trading.enums import OrderSide, TimeInForce\n",
    "# preparing orders\n",
    "symbol='MSFT'\n",
    "market_order_data = MarketOrderRequest(\n",
    "                    symbol=symbol,\n",
    "                    qty=1,\n",
    "                    side=OrderSide.SELL,\n",
    "                    time_in_force=TimeInForce.GTC\n",
    "                    )\n",
    "\n",
    "# Market order\n",
    "market_order = trading_client.submit_order(\n",
    "                order_data=market_order_data\n",
    "               )\n",
    "market_order"
   ]
  },
  {
   "cell_type": "markdown",
   "metadata": {},
   "source": [
    "# limit order"
   ]
  },
  {
   "cell_type": "code",
   "execution_count": 3,
   "metadata": {},
   "outputs": [
    {
     "data": {
      "text/plain": [
       "{   'asset_class': <AssetClass.US_EQUITY: 'us_equity'>,\n",
       "    'asset_id': UUID('8ccae427-5dd0-45b3-b5fe-7ba5e422c766'),\n",
       "    'canceled_at': None,\n",
       "    'client_order_id': 'bd40abe9-dba1-48d2-8e49-bcefa2c57c9f',\n",
       "    'created_at': datetime.datetime(2024, 12, 29, 13, 12, 58, 171784, tzinfo=TzInfo(UTC)),\n",
       "    'expired_at': None,\n",
       "    'extended_hours': False,\n",
       "    'failed_at': None,\n",
       "    'filled_at': None,\n",
       "    'filled_avg_price': None,\n",
       "    'filled_qty': '0',\n",
       "    'hwm': None,\n",
       "    'id': UUID('ccd319ac-c5d8-42de-8d6e-63fb55c340bd'),\n",
       "    'legs': None,\n",
       "    'limit_price': '165',\n",
       "    'notional': None,\n",
       "    'order_class': <OrderClass.SIMPLE: 'simple'>,\n",
       "    'order_type': <OrderType.LIMIT: 'limit'>,\n",
       "    'qty': '1',\n",
       "    'replaced_at': None,\n",
       "    'replaced_by': None,\n",
       "    'replaces': None,\n",
       "    'side': <OrderSide.SELL: 'sell'>,\n",
       "    'status': <OrderStatus.ACCEPTED: 'accepted'>,\n",
       "    'stop_price': None,\n",
       "    'submitted_at': datetime.datetime(2024, 12, 29, 13, 12, 58, 171784, tzinfo=TzInfo(UTC)),\n",
       "    'symbol': 'TSLA',\n",
       "    'time_in_force': <TimeInForce.DAY: 'day'>,\n",
       "    'trail_percent': None,\n",
       "    'trail_price': None,\n",
       "    'type': <OrderType.LIMIT: 'limit'>,\n",
       "    'updated_at': datetime.datetime(2024, 12, 29, 13, 12, 58, 172789, tzinfo=TzInfo(UTC))}"
      ]
     },
     "execution_count": 3,
     "metadata": {},
     "output_type": "execute_result"
    }
   ],
   "source": [
    "from alpaca.trading.requests import LimitOrderRequest\n",
    "symbol=\"TSLA\"\n",
    "\n",
    "limit_order_data = LimitOrderRequest(\n",
    "                    symbol=symbol,\n",
    "                    limit_price=165,\n",
    "                    qty=1,\n",
    "                    side=OrderSide.SELL,\n",
    "                    time_in_force=TimeInForce.DAY\n",
    "                   )\n",
    "\n",
    "# Limit order\n",
    "limit_order = trading_client.submit_order(\n",
    "                order_data=limit_order_data\n",
    "              )\n",
    "limit_order"
   ]
  },
  {
   "cell_type": "markdown",
   "metadata": {},
   "source": [
    "# stop market order"
   ]
  },
  {
   "cell_type": "code",
   "execution_count": 4,
   "metadata": {},
   "outputs": [
    {
     "data": {
      "text/plain": [
       "{   'asset_class': <AssetClass.US_EQUITY: 'us_equity'>,\n",
       "    'asset_id': UUID('f801f835-bfe6-4a9d-a6b1-ccbb84bfd75f'),\n",
       "    'canceled_at': None,\n",
       "    'client_order_id': 'b8d2605a-0406-4a9b-9afe-a049982ac86c',\n",
       "    'created_at': datetime.datetime(2024, 12, 29, 13, 26, 23, 651033, tzinfo=TzInfo(UTC)),\n",
       "    'expired_at': None,\n",
       "    'extended_hours': False,\n",
       "    'failed_at': None,\n",
       "    'filled_at': None,\n",
       "    'filled_avg_price': None,\n",
       "    'filled_qty': '0',\n",
       "    'hwm': None,\n",
       "    'id': UUID('ad8ad30c-4f66-444c-9b67-176727985f56'),\n",
       "    'legs': None,\n",
       "    'limit_price': None,\n",
       "    'notional': None,\n",
       "    'order_class': <OrderClass.SIMPLE: 'simple'>,\n",
       "    'order_type': <OrderType.STOP: 'stop'>,\n",
       "    'qty': '1',\n",
       "    'replaced_at': None,\n",
       "    'replaced_by': None,\n",
       "    'replaces': None,\n",
       "    'side': <OrderSide.SELL: 'sell'>,\n",
       "    'status': <OrderStatus.ACCEPTED: 'accepted'>,\n",
       "    'stop_price': '160',\n",
       "    'submitted_at': datetime.datetime(2024, 12, 29, 13, 26, 23, 651033, tzinfo=TzInfo(UTC)),\n",
       "    'symbol': 'AMZN',\n",
       "    'time_in_force': <TimeInForce.DAY: 'day'>,\n",
       "    'trail_percent': None,\n",
       "    'trail_price': None,\n",
       "    'type': <OrderType.STOP: 'stop'>,\n",
       "    'updated_at': datetime.datetime(2024, 12, 29, 13, 26, 23, 652906, tzinfo=TzInfo(UTC))}"
      ]
     },
     "execution_count": 4,
     "metadata": {},
     "output_type": "execute_result"
    }
   ],
   "source": [
    "from alpaca.trading.requests import StopOrderRequest\n",
    "\n",
    "stop_order_data=StopOrderRequest(\n",
    "                    symbol=\"AMZN\",\n",
    "                    stop_price=160,\n",
    "                    qty=1,\n",
    "                    side=OrderSide.SELL,\n",
    "                    time_in_force=TimeInForce.DAY\n",
    ")\n",
    "\n",
    "stop_market_order = trading_client.submit_order(\n",
    "                order_data=stop_order_data\n",
    "              )\n",
    "stop_market_order"
   ]
  },
  {
   "cell_type": "markdown",
   "metadata": {},
   "source": [
    "# stop limit order"
   ]
  },
  {
   "cell_type": "code",
   "execution_count": 5,
   "metadata": {},
   "outputs": [
    {
     "data": {
      "text/plain": [
       "{   'asset_class': <AssetClass.US_EQUITY: 'us_equity'>,\n",
       "    'asset_id': UUID('4ce9353c-66d1-46c2-898f-fce867ab0247'),\n",
       "    'canceled_at': None,\n",
       "    'client_order_id': '3e19db04-1059-4546-b03a-8d14d1a2c280',\n",
       "    'created_at': datetime.datetime(2024, 12, 29, 13, 27, 24, 968834, tzinfo=TzInfo(UTC)),\n",
       "    'expired_at': None,\n",
       "    'extended_hours': False,\n",
       "    'failed_at': None,\n",
       "    'filled_at': None,\n",
       "    'filled_avg_price': None,\n",
       "    'filled_qty': '0',\n",
       "    'hwm': None,\n",
       "    'id': UUID('ea5ff7c7-e066-4cbb-8b07-7c3346cacd20'),\n",
       "    'legs': None,\n",
       "    'limit_price': '210',\n",
       "    'notional': None,\n",
       "    'order_class': <OrderClass.SIMPLE: 'simple'>,\n",
       "    'order_type': <OrderType.STOP_LIMIT: 'stop_limit'>,\n",
       "    'qty': '1',\n",
       "    'replaced_at': None,\n",
       "    'replaced_by': None,\n",
       "    'replaces': None,\n",
       "    'side': <OrderSide.SELL: 'sell'>,\n",
       "    'status': <OrderStatus.ACCEPTED: 'accepted'>,\n",
       "    'stop_price': '210',\n",
       "    'submitted_at': datetime.datetime(2024, 12, 29, 13, 27, 24, 968834, tzinfo=TzInfo(UTC)),\n",
       "    'symbol': 'NVDA',\n",
       "    'time_in_force': <TimeInForce.DAY: 'day'>,\n",
       "    'trail_percent': None,\n",
       "    'trail_price': None,\n",
       "    'type': <OrderType.STOP_LIMIT: 'stop_limit'>,\n",
       "    'updated_at': datetime.datetime(2024, 12, 29, 13, 27, 24, 969640, tzinfo=TzInfo(UTC))}"
      ]
     },
     "execution_count": 5,
     "metadata": {},
     "output_type": "execute_result"
    }
   ],
   "source": [
    "from alpaca.trading.requests import StopLimitOrderRequest\n",
    "stop_limit_order_data=StopLimitOrderRequest(\n",
    "                    symbol=\"NVDA\",\n",
    "                    stop_price=210,\n",
    "                    limit_price=210,\n",
    "                    qty=1,\n",
    "                    side=OrderSide.SELL,\n",
    "                    time_in_force=TimeInForce.DAY   \n",
    ")\n",
    "\n",
    "stop_limit_order = trading_client.submit_order(\n",
    "                order_data=stop_limit_order_data\n",
    "              )\n",
    "stop_limit_order"
   ]
  },
  {
   "cell_type": "markdown",
   "metadata": {},
   "source": [
    "# Trail stop order"
   ]
  },
  {
   "cell_type": "code",
   "execution_count": 6,
   "metadata": {},
   "outputs": [
    {
     "data": {
      "text/plain": [
       "{   'asset_class': <AssetClass.US_EQUITY: 'us_equity'>,\n",
       "    'asset_id': UUID('27982558-2464-4daf-bb2f-b3b728659884'),\n",
       "    'canceled_at': None,\n",
       "    'client_order_id': '02b514dd-f886-4e35-82ef-93f90949a8ab',\n",
       "    'created_at': datetime.datetime(2024, 12, 29, 13, 36, 18, 965107, tzinfo=TzInfo(UTC)),\n",
       "    'expired_at': None,\n",
       "    'extended_hours': False,\n",
       "    'failed_at': None,\n",
       "    'filled_at': None,\n",
       "    'filled_avg_price': None,\n",
       "    'filled_qty': '0',\n",
       "    'hwm': '168.9989',\n",
       "    'id': UUID('963f6c52-27be-4f59-a372-bb4806490ab8'),\n",
       "    'legs': None,\n",
       "    'limit_price': None,\n",
       "    'notional': None,\n",
       "    'order_class': <OrderClass.SIMPLE: 'simple'>,\n",
       "    'order_type': <OrderType.TRAILING_STOP: 'trailing_stop'>,\n",
       "    'qty': '1',\n",
       "    'replaced_at': None,\n",
       "    'replaced_by': None,\n",
       "    'replaces': None,\n",
       "    'side': <OrderSide.SELL: 'sell'>,\n",
       "    'status': <OrderStatus.NEW: 'new'>,\n",
       "    'stop_price': '160.548955',\n",
       "    'submitted_at': datetime.datetime(2024, 12, 29, 13, 36, 18, 965107, tzinfo=TzInfo(UTC)),\n",
       "    'symbol': 'ORCL',\n",
       "    'time_in_force': <TimeInForce.DAY: 'day'>,\n",
       "    'trail_percent': '5',\n",
       "    'trail_price': None,\n",
       "    'type': <OrderType.TRAILING_STOP: 'trailing_stop'>,\n",
       "    'updated_at': datetime.datetime(2024, 12, 29, 13, 36, 18, 967220, tzinfo=TzInfo(UTC))}"
      ]
     },
     "execution_count": 6,
     "metadata": {},
     "output_type": "execute_result"
    }
   ],
   "source": [
    "from alpaca.trading.requests import TrailingStopOrderRequest\n",
    "trail_limit_order_data=TrailingStopOrderRequest(\n",
    "                    symbol=\"ORCL\",\n",
    "                    # trail_price=415,\n",
    "                    trail_percent=5,\n",
    "                    qty=1,\n",
    "                    side=OrderSide.SELL,\n",
    "                    time_in_force=TimeInForce.DAY   \n",
    ")\n",
    "\n",
    "trail_stop_order_percent = trading_client.submit_order(\n",
    "                order_data=trail_limit_order_data\n",
    "              )\n",
    "trail_stop_order_percent"
   ]
  },
  {
   "cell_type": "code",
   "execution_count": 7,
   "metadata": {},
   "outputs": [
    {
     "data": {
      "text/plain": [
       "{   'asset_class': <AssetClass.US_EQUITY: 'us_equity'>,\n",
       "    'asset_id': UUID('b6d1aa75-5c9c-4353-a305-9e2caa1925ab'),\n",
       "    'canceled_at': None,\n",
       "    'client_order_id': '923b2dfd-e363-4369-9c39-3400437dc90e',\n",
       "    'created_at': datetime.datetime(2024, 12, 29, 13, 37, 33, 451301, tzinfo=TzInfo(UTC)),\n",
       "    'expired_at': None,\n",
       "    'extended_hours': False,\n",
       "    'failed_at': None,\n",
       "    'filled_at': None,\n",
       "    'filled_avg_price': None,\n",
       "    'filled_qty': '0',\n",
       "    'hwm': '430.59',\n",
       "    'id': UUID('c5acc094-de81-4c67-a7f7-a192bea175b8'),\n",
       "    'legs': None,\n",
       "    'limit_price': None,\n",
       "    'notional': None,\n",
       "    'order_class': <OrderClass.SIMPLE: 'simple'>,\n",
       "    'order_type': <OrderType.TRAILING_STOP: 'trailing_stop'>,\n",
       "    'qty': '1',\n",
       "    'replaced_at': None,\n",
       "    'replaced_by': None,\n",
       "    'replaces': None,\n",
       "    'side': <OrderSide.SELL: 'sell'>,\n",
       "    'status': <OrderStatus.NEW: 'new'>,\n",
       "    'stop_price': '420.59',\n",
       "    'submitted_at': datetime.datetime(2024, 12, 29, 13, 37, 33, 451301, tzinfo=TzInfo(UTC)),\n",
       "    'symbol': 'MSFT',\n",
       "    'time_in_force': <TimeInForce.DAY: 'day'>,\n",
       "    'trail_percent': None,\n",
       "    'trail_price': '10',\n",
       "    'type': <OrderType.TRAILING_STOP: 'trailing_stop'>,\n",
       "    'updated_at': datetime.datetime(2024, 12, 29, 13, 37, 33, 453712, tzinfo=TzInfo(UTC))}"
      ]
     },
     "execution_count": 7,
     "metadata": {},
     "output_type": "execute_result"
    }
   ],
   "source": [
    "from alpaca.trading.requests import TrailingStopOrderRequest\n",
    "trail_limit_order_data=TrailingStopOrderRequest(\n",
    "                    symbol=\"MSFT\",\n",
    "                    trail_price=10,\n",
    "                    # trail_percent=5,\n",
    "                    qty=1,\n",
    "                    side=OrderSide.SELL,\n",
    "                    time_in_force=TimeInForce.DAY   \n",
    ")\n",
    "\n",
    "trail_stop_order_price = trading_client.submit_order(\n",
    "                order_data=trail_limit_order_data\n",
    "              )\n",
    "trail_stop_order_price"
   ]
  },
  {
   "cell_type": "code",
   "execution_count": 11,
   "metadata": {},
   "outputs": [
    {
     "data": {
      "text/plain": [
       "[{   'body': None,\n",
       "     'id': UUID('76cdaaf7-43f9-477c-8abe-e3d850f61e17'),\n",
       "     'status': 200},\n",
       " {   'body': None,\n",
       "     'id': UUID('963f6c52-27be-4f59-a372-bb4806490ab8'),\n",
       "     'status': 200},\n",
       " {   'body': None,\n",
       "     'id': UUID('ad8ad30c-4f66-444c-9b67-176727985f56'),\n",
       "     'status': 200},\n",
       " {   'body': None,\n",
       "     'id': UUID('bb8fe9f2-e6d3-4ce0-babe-00b3f945318e'),\n",
       "     'status': 200},\n",
       " {   'body': None,\n",
       "     'id': UUID('be14217d-304b-48c9-b722-36cc04ed007c'),\n",
       "     'status': 200},\n",
       " {   'body': None,\n",
       "     'id': UUID('c5acc094-de81-4c67-a7f7-a192bea175b8'),\n",
       "     'status': 200},\n",
       " {   'body': None,\n",
       "     'id': UUID('ea5ff7c7-e066-4cbb-8b07-7c3346cacd20'),\n",
       "     'status': 200}]"
      ]
     },
     "execution_count": 11,
     "metadata": {},
     "output_type": "execute_result"
    }
   ],
   "source": [
    "trading_client.cancel_orders()"
   ]
  },
  {
   "cell_type": "code",
   "execution_count": null,
   "metadata": {},
   "outputs": [],
   "source": [
    "import pandas as pd\n",
    "def get_all_open_orders():\n",
    "    # orders that satisfy params\n",
    "    orders = trading_client.get_orders()\n",
    "    new_order=[]\n",
    "    for elem in orders:\n",
    "        new_order.append(dict(elem))\n",
    "\n",
    "    order_df=pd.DataFrame(new_order)\n",
    "    return order_df\n",
    "df=get_all_open_orders()\n",
    "df"
   ]
  },
  {
   "cell_type": "markdown",
   "metadata": {},
   "source": [
    "# placing order for crypto"
   ]
  },
  {
   "cell_type": "code",
   "execution_count": 12,
   "metadata": {},
   "outputs": [
    {
     "data": {
      "text/plain": [
       "{   'asset_class': <AssetClass.CRYPTO: 'crypto'>,\n",
       "    'asset_id': UUID('a1733398-6acc-4e92-af24-0d0667f78713'),\n",
       "    'canceled_at': None,\n",
       "    'client_order_id': '55c3ee37-3215-41d9-9520-67de229a1f55',\n",
       "    'created_at': datetime.datetime(2024, 12, 29, 13, 46, 44, 719390, tzinfo=TzInfo(UTC)),\n",
       "    'expired_at': None,\n",
       "    'extended_hours': False,\n",
       "    'failed_at': None,\n",
       "    'filled_at': None,\n",
       "    'filled_avg_price': None,\n",
       "    'filled_qty': '0',\n",
       "    'hwm': None,\n",
       "    'id': UUID('c2a1d8be-d8ed-4f12-be47-88d51ddd952e'),\n",
       "    'legs': None,\n",
       "    'limit_price': None,\n",
       "    'notional': None,\n",
       "    'order_class': <OrderClass.SIMPLE: 'simple'>,\n",
       "    'order_type': <OrderType.MARKET: 'market'>,\n",
       "    'qty': '1',\n",
       "    'replaced_at': None,\n",
       "    'replaced_by': None,\n",
       "    'replaces': None,\n",
       "    'side': <OrderSide.BUY: 'buy'>,\n",
       "    'status': <OrderStatus.PENDING_NEW: 'pending_new'>,\n",
       "    'stop_price': None,\n",
       "    'submitted_at': datetime.datetime(2024, 12, 29, 13, 46, 44, 719390, tzinfo=TzInfo(UTC)),\n",
       "    'symbol': 'ETH/USD',\n",
       "    'time_in_force': <TimeInForce.GTC: 'gtc'>,\n",
       "    'trail_percent': None,\n",
       "    'trail_price': None,\n",
       "    'type': <OrderType.MARKET: 'market'>,\n",
       "    'updated_at': datetime.datetime(2024, 12, 29, 13, 46, 44, 720356, tzinfo=TzInfo(UTC))}"
      ]
     },
     "execution_count": 12,
     "metadata": {},
     "output_type": "execute_result"
    }
   ],
   "source": [
    "from alpaca.trading.enums import OrderType\n",
    "symbol='ETH/USD'\n",
    "# simple, market order\n",
    "# you can specify:\n",
    "# or notional value (e.g. 100 USD) (which is in the next example)\n",
    "req = MarketOrderRequest(\n",
    "    symbol = symbol,\n",
    "    qty = 1,\n",
    "    side = OrderSide.BUY,\n",
    "    type = OrderType.MARKET,\n",
    "    time_in_force = TimeInForce.GTC,\n",
    ")\n",
    "res = trading_client.submit_order(req)\n",
    "res"
   ]
  },
  {
   "cell_type": "code",
   "execution_count": 13,
   "metadata": {},
   "outputs": [
    {
     "data": {
      "text/plain": [
       "{   'asset_class': <AssetClass.CRYPTO: 'crypto'>,\n",
       "    'asset_id': UUID('a1733398-6acc-4e92-af24-0d0667f78713'),\n",
       "    'canceled_at': None,\n",
       "    'client_order_id': '020174fb-fa61-4740-a6fd-37e69be22b20',\n",
       "    'created_at': datetime.datetime(2024, 12, 29, 13, 48, 33, 261168, tzinfo=TzInfo(UTC)),\n",
       "    'expired_at': None,\n",
       "    'extended_hours': False,\n",
       "    'failed_at': None,\n",
       "    'filled_at': None,\n",
       "    'filled_avg_price': None,\n",
       "    'filled_qty': '0',\n",
       "    'hwm': None,\n",
       "    'id': UUID('d8cc22ec-8cb0-408d-b7f9-cc4c72eacf0a'),\n",
       "    'legs': None,\n",
       "    'limit_price': None,\n",
       "    'notional': '1.11',\n",
       "    'order_class': <OrderClass.SIMPLE: 'simple'>,\n",
       "    'order_type': <OrderType.MARKET: 'market'>,\n",
       "    'qty': None,\n",
       "    'replaced_at': None,\n",
       "    'replaced_by': None,\n",
       "    'replaces': None,\n",
       "    'side': <OrderSide.BUY: 'buy'>,\n",
       "    'status': <OrderStatus.PENDING_NEW: 'pending_new'>,\n",
       "    'stop_price': None,\n",
       "    'submitted_at': datetime.datetime(2024, 12, 29, 13, 48, 33, 261168, tzinfo=TzInfo(UTC)),\n",
       "    'symbol': 'ETH/USD',\n",
       "    'time_in_force': <TimeInForce.GTC: 'gtc'>,\n",
       "    'trail_percent': None,\n",
       "    'trail_price': None,\n",
       "    'type': <OrderType.MARKET: 'market'>,\n",
       "    'updated_at': datetime.datetime(2024, 12, 29, 13, 48, 33, 262694, tzinfo=TzInfo(UTC))}"
      ]
     },
     "execution_count": 13,
     "metadata": {},
     "output_type": "execute_result"
    }
   ],
   "source": [
    "# simple, market order, notional\n",
    "\n",
    "req = MarketOrderRequest(\n",
    "    symbol = symbol,\n",
    "    notional = 1.11,  # notional is specified in USD, here we specify $1.11\n",
    "    side = OrderSide.BUY,\n",
    "    type = OrderType.MARKET,\n",
    "    time_in_force = TimeInForce.GTC,\n",
    ")\n",
    "res = trading_client.submit_order(req)\n",
    "res"
   ]
  },
  {
   "cell_type": "code",
   "execution_count": 18,
   "metadata": {},
   "outputs": [
    {
     "data": {
      "text/plain": [
       "{   'asset_class': <AssetClass.CRYPTO: 'crypto'>,\n",
       "    'asset_id': UUID('8588af33-3a8e-4a09-bb6c-ba4226dc7aff'),\n",
       "    'canceled_at': None,\n",
       "    'client_order_id': '653fe584-4d75-41ca-81b1-cce11099a854',\n",
       "    'created_at': datetime.datetime(2024, 12, 29, 13, 56, 8, 839588, tzinfo=TzInfo(UTC)),\n",
       "    'expired_at': None,\n",
       "    'extended_hours': False,\n",
       "    'failed_at': None,\n",
       "    'filled_at': None,\n",
       "    'filled_avg_price': None,\n",
       "    'filled_qty': '0',\n",
       "    'hwm': None,\n",
       "    'id': UUID('12424f90-8a1c-4d60-b4ee-ef4f1595b37c'),\n",
       "    'legs': None,\n",
       "    'limit_price': '300',\n",
       "    'notional': None,\n",
       "    'order_class': <OrderClass.SIMPLE: 'simple'>,\n",
       "    'order_type': <OrderType.LIMIT: 'limit'>,\n",
       "    'qty': '1',\n",
       "    'replaced_at': None,\n",
       "    'replaced_by': None,\n",
       "    'replaces': None,\n",
       "    'side': <OrderSide.BUY: 'buy'>,\n",
       "    'status': <OrderStatus.PENDING_NEW: 'pending_new'>,\n",
       "    'stop_price': None,\n",
       "    'submitted_at': datetime.datetime(2024, 12, 29, 13, 56, 8, 839588, tzinfo=TzInfo(UTC)),\n",
       "    'symbol': 'AAVE/USD',\n",
       "    'time_in_force': <TimeInForce.GTC: 'gtc'>,\n",
       "    'trail_percent': None,\n",
       "    'trail_price': None,\n",
       "    'type': <OrderType.LIMIT: 'limit'>,\n",
       "    'updated_at': datetime.datetime(2024, 12, 29, 13, 56, 8, 841403, tzinfo=TzInfo(UTC))}"
      ]
     },
     "execution_count": 18,
     "metadata": {},
     "output_type": "execute_result"
    }
   ],
   "source": [
    "# simple, limit order\n",
    "symbol='AAVE/USD'\n",
    "req = LimitOrderRequest(\n",
    "    symbol = symbol,\n",
    "    qty = 1,\n",
    "    limit_price = 300,\n",
    "    side = OrderSide.BUY,\n",
    "    type = OrderType.LIMIT,\n",
    "    time_in_force = TimeInForce.GTC,\n",
    ")\n",
    "res = trading_client.submit_order(req)\n",
    "res"
   ]
  },
  {
   "cell_type": "code",
   "execution_count": 20,
   "metadata": {},
   "outputs": [
    {
     "data": {
      "text/plain": [
       "{   'asset_class': <AssetClass.CRYPTO: 'crypto'>,\n",
       "    'asset_id': UUID('8588af33-3a8e-4a09-bb6c-ba4226dc7aff'),\n",
       "    'canceled_at': None,\n",
       "    'client_order_id': 'ce60252c-9cf5-42fc-84c0-57e98b4c268d',\n",
       "    'created_at': datetime.datetime(2024, 12, 29, 14, 0, 31, 427452, tzinfo=TzInfo(UTC)),\n",
       "    'expired_at': None,\n",
       "    'extended_hours': False,\n",
       "    'failed_at': None,\n",
       "    'filled_at': None,\n",
       "    'filled_avg_price': None,\n",
       "    'filled_qty': '0',\n",
       "    'hwm': None,\n",
       "    'id': UUID('ef73c6b9-f3f6-4216-9be0-cd05d9943601'),\n",
       "    'legs': None,\n",
       "    'limit_price': '300',\n",
       "    'notional': None,\n",
       "    'order_class': <OrderClass.SIMPLE: 'simple'>,\n",
       "    'order_type': <OrderType.STOP_LIMIT: 'stop_limit'>,\n",
       "    'qty': '0.01',\n",
       "    'replaced_at': None,\n",
       "    'replaced_by': None,\n",
       "    'replaces': None,\n",
       "    'side': <OrderSide.BUY: 'buy'>,\n",
       "    'status': <OrderStatus.NEW: 'new'>,\n",
       "    'stop_price': '300',\n",
       "    'submitted_at': datetime.datetime(2024, 12, 29, 14, 0, 31, 427452, tzinfo=TzInfo(UTC)),\n",
       "    'symbol': 'AAVE/USD',\n",
       "    'time_in_force': <TimeInForce.GTC: 'gtc'>,\n",
       "    'trail_percent': None,\n",
       "    'trail_price': None,\n",
       "    'type': <OrderType.STOP_LIMIT: 'stop_limit'>,\n",
       "    'updated_at': datetime.datetime(2024, 12, 29, 14, 0, 31, 428753, tzinfo=TzInfo(UTC))}"
      ]
     },
     "execution_count": 20,
     "metadata": {},
     "output_type": "execute_result"
    }
   ],
   "source": [
    "# stop limit order\n",
    "#fractional orders must be DAY orders\n",
    "req = StopLimitOrderRequest(\n",
    "                    symbol = 'AAVE/USD',\n",
    "                    qty = 0.01,\n",
    "                    side = OrderSide.BUY,\n",
    "                    time_in_force = TimeInForce.GTC,\n",
    "                    limit_price = 300,\n",
    "                    stop_price = 300\n",
    "                    )\n",
    "\n",
    "res = trading_client.submit_order(req)\n",
    "res"
   ]
  },
  {
   "cell_type": "markdown",
   "metadata": {},
   "source": [
    "# option orders"
   ]
  },
  {
   "cell_type": "markdown",
   "metadata": {},
   "source": [
    "# make sure you  buy 100 stock in equity to trade option of that stock"
   ]
  },
  {
   "cell_type": "code",
   "execution_count": 21,
   "metadata": {},
   "outputs": [
    {
     "ename": "APIError",
     "evalue": "{\"code\":42210000,\"message\":\"options market orders are only allowed during market hours\"}",
     "output_type": "error",
     "traceback": [
      "\u001b[0;31m---------------------------------------------------------------------------\u001b[0m",
      "\u001b[0;31mHTTPError\u001b[0m                                 Traceback (most recent call last)",
      "File \u001b[0;32m/Users/algotrading2024/batch 28/.venv/lib/python3.12/site-packages/alpaca/common/rest.py:198\u001b[0m, in \u001b[0;36mRESTClient._one_request\u001b[0;34m(self, method, url, opts, retry)\u001b[0m\n\u001b[1;32m    197\u001b[0m \u001b[38;5;28;01mtry\u001b[39;00m:\n\u001b[0;32m--> 198\u001b[0m     \u001b[43mresponse\u001b[49m\u001b[38;5;241;43m.\u001b[39;49m\u001b[43mraise_for_status\u001b[49m\u001b[43m(\u001b[49m\u001b[43m)\u001b[49m\n\u001b[1;32m    199\u001b[0m \u001b[38;5;28;01mexcept\u001b[39;00m HTTPError \u001b[38;5;28;01mas\u001b[39;00m http_error:\n\u001b[1;32m    200\u001b[0m     \u001b[38;5;66;03m# retry if we hit Rate Limit\u001b[39;00m\n",
      "File \u001b[0;32m/Users/algotrading2024/batch 28/.venv/lib/python3.12/site-packages/requests/models.py:1024\u001b[0m, in \u001b[0;36mResponse.raise_for_status\u001b[0;34m(self)\u001b[0m\n\u001b[1;32m   1023\u001b[0m \u001b[38;5;28;01mif\u001b[39;00m http_error_msg:\n\u001b[0;32m-> 1024\u001b[0m     \u001b[38;5;28;01mraise\u001b[39;00m HTTPError(http_error_msg, response\u001b[38;5;241m=\u001b[39m\u001b[38;5;28mself\u001b[39m)\n",
      "\u001b[0;31mHTTPError\u001b[0m: 422 Client Error: Unprocessable Entity for url: https://paper-api.alpaca.markets/v2/orders",
      "\nDuring handling of the above exception, another exception occurred:\n",
      "\u001b[0;31mAPIError\u001b[0m                                  Traceback (most recent call last)",
      "Cell \u001b[0;32mIn[21], line 11\u001b[0m\n\u001b[1;32m      3\u001b[0m symbol\u001b[38;5;241m=\u001b[39m\u001b[38;5;124m'\u001b[39m\u001b[38;5;124mSPY241230C00596000\u001b[39m\u001b[38;5;124m'\u001b[39m\n\u001b[1;32m      4\u001b[0m req \u001b[38;5;241m=\u001b[39m MarketOrderRequest(\n\u001b[1;32m      5\u001b[0m     symbol \u001b[38;5;241m=\u001b[39m symbol,\n\u001b[1;32m      6\u001b[0m     qty \u001b[38;5;241m=\u001b[39m \u001b[38;5;241m1\u001b[39m,\n\u001b[0;32m   (...)\u001b[0m\n\u001b[1;32m      9\u001b[0m     time_in_force \u001b[38;5;241m=\u001b[39m TimeInForce\u001b[38;5;241m.\u001b[39mDAY,\n\u001b[1;32m     10\u001b[0m )\n\u001b[0;32m---> 11\u001b[0m res \u001b[38;5;241m=\u001b[39m \u001b[43mtrading_client\u001b[49m\u001b[38;5;241;43m.\u001b[39;49m\u001b[43msubmit_order\u001b[49m\u001b[43m(\u001b[49m\u001b[43mreq\u001b[49m\u001b[43m)\u001b[49m\n\u001b[1;32m     12\u001b[0m res\n",
      "File \u001b[0;32m/Users/algotrading2024/batch 28/.venv/lib/python3.12/site-packages/alpaca/trading/client.py:100\u001b[0m, in \u001b[0;36mTradingClient.submit_order\u001b[0;34m(self, order_data)\u001b[0m\n\u001b[1;32m     91\u001b[0m \u001b[38;5;250m\u001b[39m\u001b[38;5;124;03m\"\"\"Creates an order to buy or sell an asset.\u001b[39;00m\n\u001b[1;32m     92\u001b[0m \n\u001b[1;32m     93\u001b[0m \u001b[38;5;124;03mArgs:\u001b[39;00m\n\u001b[0;32m   (...)\u001b[0m\n\u001b[1;32m     97\u001b[0m \u001b[38;5;124;03m    alpaca.trading.models.Order: The resulting submitted order.\u001b[39;00m\n\u001b[1;32m     98\u001b[0m \u001b[38;5;124;03m\"\"\"\u001b[39;00m\n\u001b[1;32m     99\u001b[0m data \u001b[38;5;241m=\u001b[39m order_data\u001b[38;5;241m.\u001b[39mto_request_fields()\n\u001b[0;32m--> 100\u001b[0m response \u001b[38;5;241m=\u001b[39m \u001b[38;5;28;43mself\u001b[39;49m\u001b[38;5;241;43m.\u001b[39;49m\u001b[43mpost\u001b[49m\u001b[43m(\u001b[49m\u001b[38;5;124;43m\"\u001b[39;49m\u001b[38;5;124;43m/orders\u001b[39;49m\u001b[38;5;124;43m\"\u001b[39;49m\u001b[43m,\u001b[49m\u001b[43m \u001b[49m\u001b[43mdata\u001b[49m\u001b[43m)\u001b[49m\n\u001b[1;32m    102\u001b[0m \u001b[38;5;28;01mif\u001b[39;00m \u001b[38;5;28mself\u001b[39m\u001b[38;5;241m.\u001b[39m_use_raw_data:\n\u001b[1;32m    103\u001b[0m     \u001b[38;5;28;01mreturn\u001b[39;00m response\n",
      "File \u001b[0;32m/Users/algotrading2024/batch 28/.venv/lib/python3.12/site-packages/alpaca/common/rest.py:240\u001b[0m, in \u001b[0;36mRESTClient.post\u001b[0;34m(self, path, data)\u001b[0m\n\u001b[1;32m    227\u001b[0m \u001b[38;5;28;01mdef\u001b[39;00m \u001b[38;5;21mpost\u001b[39m(\n\u001b[1;32m    228\u001b[0m     \u001b[38;5;28mself\u001b[39m, path: \u001b[38;5;28mstr\u001b[39m, data: Optional[Union[\u001b[38;5;28mdict\u001b[39m, List[\u001b[38;5;28mdict\u001b[39m]]] \u001b[38;5;241m=\u001b[39m \u001b[38;5;28;01mNone\u001b[39;00m\n\u001b[1;32m    229\u001b[0m ) \u001b[38;5;241m-\u001b[39m\u001b[38;5;241m>\u001b[39m HTTPResult:\n\u001b[1;32m    230\u001b[0m \u001b[38;5;250m    \u001b[39m\u001b[38;5;124;03m\"\"\"Performs a single POST request\u001b[39;00m\n\u001b[1;32m    231\u001b[0m \n\u001b[1;32m    232\u001b[0m \u001b[38;5;124;03m    Args:\u001b[39;00m\n\u001b[0;32m   (...)\u001b[0m\n\u001b[1;32m    238\u001b[0m \u001b[38;5;124;03m        dict: The response\u001b[39;00m\n\u001b[1;32m    239\u001b[0m \u001b[38;5;124;03m    \"\"\"\u001b[39;00m\n\u001b[0;32m--> 240\u001b[0m     \u001b[38;5;28;01mreturn\u001b[39;00m \u001b[38;5;28;43mself\u001b[39;49m\u001b[38;5;241;43m.\u001b[39;49m\u001b[43m_request\u001b[49m\u001b[43m(\u001b[49m\u001b[38;5;124;43m\"\u001b[39;49m\u001b[38;5;124;43mPOST\u001b[39;49m\u001b[38;5;124;43m\"\u001b[39;49m\u001b[43m,\u001b[49m\u001b[43m \u001b[49m\u001b[43mpath\u001b[49m\u001b[43m,\u001b[49m\u001b[43m \u001b[49m\u001b[43mdata\u001b[49m\u001b[43m)\u001b[49m\n",
      "File \u001b[0;32m/Users/algotrading2024/batch 28/.venv/lib/python3.12/site-packages/alpaca/common/rest.py:131\u001b[0m, in \u001b[0;36mRESTClient._request\u001b[0;34m(self, method, path, data, base_url, api_version)\u001b[0m\n\u001b[1;32m    129\u001b[0m \u001b[38;5;28;01mwhile\u001b[39;00m retry \u001b[38;5;241m>\u001b[39m\u001b[38;5;241m=\u001b[39m \u001b[38;5;241m0\u001b[39m:\n\u001b[1;32m    130\u001b[0m     \u001b[38;5;28;01mtry\u001b[39;00m:\n\u001b[0;32m--> 131\u001b[0m         \u001b[38;5;28;01mreturn\u001b[39;00m \u001b[38;5;28;43mself\u001b[39;49m\u001b[38;5;241;43m.\u001b[39;49m\u001b[43m_one_request\u001b[49m\u001b[43m(\u001b[49m\u001b[43mmethod\u001b[49m\u001b[43m,\u001b[49m\u001b[43m \u001b[49m\u001b[43murl\u001b[49m\u001b[43m,\u001b[49m\u001b[43m \u001b[49m\u001b[43mopts\u001b[49m\u001b[43m,\u001b[49m\u001b[43m \u001b[49m\u001b[43mretry\u001b[49m\u001b[43m)\u001b[49m\n\u001b[1;32m    132\u001b[0m     \u001b[38;5;28;01mexcept\u001b[39;00m RetryException:\n\u001b[1;32m    133\u001b[0m         time\u001b[38;5;241m.\u001b[39msleep(\u001b[38;5;28mself\u001b[39m\u001b[38;5;241m.\u001b[39m_retry_wait)\n",
      "File \u001b[0;32m/Users/algotrading2024/batch 28/.venv/lib/python3.12/site-packages/alpaca/common/rest.py:207\u001b[0m, in \u001b[0;36mRESTClient._one_request\u001b[0;34m(self, method, url, opts, retry)\u001b[0m\n\u001b[1;32m    204\u001b[0m     \u001b[38;5;66;03m# raise API error for all other errors\u001b[39;00m\n\u001b[1;32m    205\u001b[0m     error \u001b[38;5;241m=\u001b[39m response\u001b[38;5;241m.\u001b[39mtext\n\u001b[0;32m--> 207\u001b[0m     \u001b[38;5;28;01mraise\u001b[39;00m APIError(error, http_error)\n\u001b[1;32m    209\u001b[0m \u001b[38;5;28;01mif\u001b[39;00m response\u001b[38;5;241m.\u001b[39mtext \u001b[38;5;241m!=\u001b[39m \u001b[38;5;124m\"\u001b[39m\u001b[38;5;124m\"\u001b[39m:\n\u001b[1;32m    210\u001b[0m     \u001b[38;5;28;01mreturn\u001b[39;00m response\u001b[38;5;241m.\u001b[39mjson()\n",
      "\u001b[0;31mAPIError\u001b[0m: {\"code\":42210000,\"message\":\"options market orders are only allowed during market hours\"}"
     ]
    }
   ],
   "source": [
    "# place buy put option order\n",
    "# - we can place buy put option order same as buy stock/crypto order\n",
    "symbol='SPY241230C00596000'\n",
    "req = MarketOrderRequest(\n",
    "    symbol = symbol,\n",
    "    qty = 1,\n",
    "    side = OrderSide.SELL,\n",
    "    type = OrderType.MARKET,\n",
    "    time_in_force = TimeInForce.DAY,\n",
    ")\n",
    "res = trading_client.submit_order(req)\n",
    "res"
   ]
  }
 ],
 "metadata": {
  "kernelspec": {
   "display_name": ".venv",
   "language": "python",
   "name": "python3"
  },
  "language_info": {
   "codemirror_mode": {
    "name": "ipython",
    "version": 3
   },
   "file_extension": ".py",
   "mimetype": "text/x-python",
   "name": "python",
   "nbconvert_exporter": "python",
   "pygments_lexer": "ipython3",
   "version": "3.12.2"
  }
 },
 "nbformat": 4,
 "nbformat_minor": 2
}
