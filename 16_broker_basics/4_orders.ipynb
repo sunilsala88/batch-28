{
 "cells": [
  {
   "cell_type": "code",
   "execution_count": 50,
   "metadata": {},
   "outputs": [],
   "source": [
    "\n",
    "from alpaca.trading.client import TradingClient\n",
    "from credentials import api_key,secret_key\n",
    "trading_client = TradingClient(api_key, secret_key, paper=True)"
   ]
  },
  {
   "cell_type": "markdown",
   "metadata": {},
   "source": [
    "# market order"
   ]
  },
  {
   "cell_type": "code",
   "execution_count": 51,
   "metadata": {},
   "outputs": [
    {
     "data": {
      "text/plain": [
       "{   'asset_class': <AssetClass.US_EQUITY: 'us_equity'>,\n",
       "    'asset_id': UUID('b28f4066-5c6d-479b-a2af-85dc1a8f16fb'),\n",
       "    'canceled_at': None,\n",
       "    'client_order_id': '28def0b1-7c39-499d-9cd6-1e7094e4e77c',\n",
       "    'created_at': datetime.datetime(2024, 12, 16, 19, 30, 3, 39547, tzinfo=TzInfo(UTC)),\n",
       "    'expired_at': None,\n",
       "    'extended_hours': False,\n",
       "    'failed_at': None,\n",
       "    'filled_at': None,\n",
       "    'filled_avg_price': None,\n",
       "    'filled_qty': '0',\n",
       "    'hwm': None,\n",
       "    'id': UUID('6cb167ff-3772-4161-8b56-d775ccb932b5'),\n",
       "    'legs': None,\n",
       "    'limit_price': None,\n",
       "    'notional': None,\n",
       "    'order_class': <OrderClass.SIMPLE: 'simple'>,\n",
       "    'order_type': <OrderType.MARKET: 'market'>,\n",
       "    'qty': '100',\n",
       "    'replaced_at': None,\n",
       "    'replaced_by': None,\n",
       "    'replaces': None,\n",
       "    'side': <OrderSide.BUY: 'buy'>,\n",
       "    'status': <OrderStatus.PENDING_NEW: 'pending_new'>,\n",
       "    'stop_price': None,\n",
       "    'submitted_at': datetime.datetime(2024, 12, 16, 19, 30, 3, 39547, tzinfo=TzInfo(UTC)),\n",
       "    'symbol': 'SPY',\n",
       "    'time_in_force': <TimeInForce.GTC: 'gtc'>,\n",
       "    'trail_percent': None,\n",
       "    'trail_price': None,\n",
       "    'type': <OrderType.MARKET: 'market'>,\n",
       "    'updated_at': datetime.datetime(2024, 12, 16, 19, 30, 3, 41589, tzinfo=TzInfo(UTC))}"
      ]
     },
     "execution_count": 51,
     "metadata": {},
     "output_type": "execute_result"
    }
   ],
   "source": [
    "from alpaca.trading.requests import MarketOrderRequest\n",
    "from alpaca.trading.enums import OrderSide, TimeInForce\n",
    "# preparing orders\n",
    "symbol='SPY'\n",
    "market_order_data = MarketOrderRequest(\n",
    "                    symbol=symbol,\n",
    "                    qty=100,\n",
    "                    side=OrderSide.BUY,\n",
    "                    time_in_force=TimeInForce.GTC\n",
    "                    )\n",
    "\n",
    "# Market order\n",
    "market_order = trading_client.submit_order(\n",
    "                order_data=market_order_data\n",
    "               )\n",
    "market_order"
   ]
  },
  {
   "cell_type": "markdown",
   "metadata": {},
   "source": [
    "# limit order"
   ]
  },
  {
   "cell_type": "code",
   "execution_count": null,
   "metadata": {},
   "outputs": [],
   "source": [
    "from alpaca.trading.requests import LimitOrderRequest\n",
    "symbol=\"TSLA\"\n",
    "\n",
    "limit_order_data = LimitOrderRequest(\n",
    "                    symbol=symbol,\n",
    "                    limit_price=165,\n",
    "                    qty=1,\n",
    "                    side=OrderSide.SELL,\n",
    "                    time_in_force=TimeInForce.DAY\n",
    "                   )\n",
    "\n",
    "# Limit order\n",
    "limit_order = trading_client.submit_order(\n",
    "                order_data=limit_order_data\n",
    "              )\n",
    "limit_order"
   ]
  },
  {
   "cell_type": "markdown",
   "metadata": {},
   "source": [
    "# stop market order"
   ]
  },
  {
   "cell_type": "code",
   "execution_count": null,
   "metadata": {},
   "outputs": [],
   "source": [
    "from alpaca.trading.requests import StopOrderRequest\n",
    "\n",
    "stop_order_data=StopOrderRequest(\n",
    "                    symbol=\"AMZN\",\n",
    "                    stop_price=160,\n",
    "                    qty=1,\n",
    "                    side=OrderSide.SELL,\n",
    "                    time_in_force=TimeInForce.DAY\n",
    ")\n",
    "\n",
    "stop_market_order = trading_client.submit_order(\n",
    "                order_data=stop_order_data\n",
    "              )\n",
    "stop_market_order"
   ]
  },
  {
   "cell_type": "markdown",
   "metadata": {},
   "source": [
    "# stop limit order"
   ]
  },
  {
   "cell_type": "code",
   "execution_count": null,
   "metadata": {},
   "outputs": [],
   "source": [
    "from alpaca.trading.requests import StopLimitOrderRequest\n",
    "stop_limit_order_data=StopLimitOrderRequest(\n",
    "                    symbol=\"NVDA\",\n",
    "                    stop_price=210,\n",
    "                    limit_price=210,\n",
    "                    qty=1,\n",
    "                    side=OrderSide.SELL,\n",
    "                    time_in_force=TimeInForce.DAY   \n",
    ")\n",
    "\n",
    "stop_limit_order = trading_client.submit_order(\n",
    "                order_data=stop_limit_order_data\n",
    "              )\n",
    "stop_limit_order"
   ]
  },
  {
   "cell_type": "markdown",
   "metadata": {},
   "source": [
    "# Trail stop order"
   ]
  },
  {
   "cell_type": "code",
   "execution_count": null,
   "metadata": {},
   "outputs": [],
   "source": [
    "from alpaca.trading.requests import TrailingStopOrderRequest\n",
    "trail_limit_order_data=TrailingStopOrderRequest(\n",
    "                    symbol=\"ORCL\",\n",
    "                    # trail_price=415,\n",
    "                    trail_percent=5,\n",
    "                    qty=1,\n",
    "                    side=OrderSide.SELL,\n",
    "                    time_in_force=TimeInForce.DAY   \n",
    ")\n",
    "\n",
    "trail_stop_order_percent = trading_client.submit_order(\n",
    "                order_data=trail_limit_order_data\n",
    "              )\n",
    "trail_stop_order_percent"
   ]
  },
  {
   "cell_type": "code",
   "execution_count": null,
   "metadata": {},
   "outputs": [],
   "source": [
    "from alpaca.trading.requests import TrailingStopOrderRequest\n",
    "trail_limit_order_data=TrailingStopOrderRequest(\n",
    "                    symbol=\"MSFT\",\n",
    "                    trail_price=10,\n",
    "                    # trail_percent=5,\n",
    "                    qty=1,\n",
    "                    side=OrderSide.SELL,\n",
    "                    time_in_force=TimeInForce.DAY   \n",
    ")\n",
    "\n",
    "trail_stop_order_price = trading_client.submit_order(\n",
    "                order_data=trail_limit_order_data\n",
    "              )\n",
    "trail_stop_order_price"
   ]
  },
  {
   "cell_type": "code",
   "execution_count": null,
   "metadata": {},
   "outputs": [],
   "source": [
    "import pandas as pd\n",
    "def get_all_open_orders():\n",
    "    # orders that satisfy params\n",
    "    orders = trading_client.get_orders()\n",
    "    new_order=[]\n",
    "    for elem in orders:\n",
    "        new_order.append(dict(elem))\n",
    "\n",
    "    order_df=pd.DataFrame(new_order)\n",
    "    return order_df\n",
    "df=get_all_open_orders()\n",
    "df"
   ]
  },
  {
   "cell_type": "markdown",
   "metadata": {},
   "source": [
    "# placing order for crypto"
   ]
  },
  {
   "cell_type": "code",
   "execution_count": null,
   "metadata": {},
   "outputs": [],
   "source": [
    "from alpaca.trading.enums import OrderType\n",
    "symbol='ETH/USD'\n",
    "# simple, market order\n",
    "# you can specify:\n",
    "# or notional value (e.g. 100 USD) (which is in the next example)\n",
    "req = MarketOrderRequest(\n",
    "    symbol = symbol,\n",
    "    qty = 1,\n",
    "    side = OrderSide.BUY,\n",
    "    type = OrderType.MARKET,\n",
    "    time_in_force = TimeInForce.GTC,\n",
    ")\n",
    "res = trading_client.submit_order(req)\n",
    "res"
   ]
  },
  {
   "cell_type": "code",
   "execution_count": null,
   "metadata": {},
   "outputs": [],
   "source": [
    "# simple, market order, notional\n",
    "\n",
    "req = MarketOrderRequest(\n",
    "    symbol = symbol,\n",
    "    notional = 1.11,  # notional is specified in USD, here we specify $1.11\n",
    "    side = OrderSide.BUY,\n",
    "    type = OrderType.MARKET,\n",
    "    time_in_force = TimeInForce.GTC,\n",
    ")\n",
    "res = trading_client.submit_order(req)\n",
    "res"
   ]
  },
  {
   "cell_type": "code",
   "execution_count": null,
   "metadata": {},
   "outputs": [],
   "source": [
    "# simple, limit order\n",
    "req = LimitOrderRequest(\n",
    "    symbol = symbol,\n",
    "    qty = 1,\n",
    "    limit_price = 4000,\n",
    "    side = OrderSide.BUY,\n",
    "    type = OrderType.LIMIT,\n",
    "    time_in_force = TimeInForce.GTC,\n",
    ")\n",
    "res = trading_client.submit_order(req)\n",
    "res"
   ]
  },
  {
   "cell_type": "code",
   "execution_count": null,
   "metadata": {},
   "outputs": [],
   "source": [
    "# stop limit order\n",
    "#fractional orders must be DAY orders\n",
    "req = StopLimitOrderRequest(\n",
    "                    symbol = symbol,\n",
    "                    qty = 0.01,\n",
    "                    side = OrderSide.BUY,\n",
    "                    time_in_force = TimeInForce.GTC,\n",
    "                    limit_price = 3990,\n",
    "                    stop_price = 4000\n",
    "                    )\n",
    "\n",
    "res = trading_client.submit_order(req)\n",
    "res"
   ]
  },
  {
   "cell_type": "markdown",
   "metadata": {},
   "source": [
    "# option orders"
   ]
  },
  {
   "cell_type": "markdown",
   "metadata": {},
   "source": [
    "# make sure you  buy 100 stock in equity to trade option of that stock"
   ]
  },
  {
   "cell_type": "code",
   "execution_count": 55,
   "metadata": {},
   "outputs": [
    {
     "data": {
      "text/plain": [
       "{   'asset_class': <AssetClass.US_OPTION: 'us_option'>,\n",
       "    'asset_id': UUID('34f7cf28-c111-425e-9d3c-bbb6ed6068c7'),\n",
       "    'canceled_at': None,\n",
       "    'client_order_id': '66706b4e-9155-4014-94fc-9ec864c18416',\n",
       "    'created_at': datetime.datetime(2024, 12, 16, 19, 30, 56, 172842, tzinfo=TzInfo(UTC)),\n",
       "    'expired_at': None,\n",
       "    'extended_hours': False,\n",
       "    'failed_at': None,\n",
       "    'filled_at': None,\n",
       "    'filled_avg_price': None,\n",
       "    'filled_qty': '0',\n",
       "    'hwm': None,\n",
       "    'id': UUID('2b2db86f-f892-44a5-91e5-342887c97498'),\n",
       "    'legs': None,\n",
       "    'limit_price': None,\n",
       "    'notional': None,\n",
       "    'order_class': <OrderClass.SIMPLE: 'simple'>,\n",
       "    'order_type': <OrderType.MARKET: 'market'>,\n",
       "    'qty': '1',\n",
       "    'replaced_at': None,\n",
       "    'replaced_by': None,\n",
       "    'replaces': None,\n",
       "    'side': <OrderSide.SELL: 'sell'>,\n",
       "    'status': <OrderStatus.PENDING_NEW: 'pending_new'>,\n",
       "    'stop_price': None,\n",
       "    'submitted_at': datetime.datetime(2024, 12, 16, 19, 30, 56, 171439, tzinfo=TzInfo(UTC)),\n",
       "    'symbol': 'SPY241216C00605000',\n",
       "    'time_in_force': <TimeInForce.DAY: 'day'>,\n",
       "    'trail_percent': None,\n",
       "    'trail_price': None,\n",
       "    'type': <OrderType.MARKET: 'market'>,\n",
       "    'updated_at': datetime.datetime(2024, 12, 16, 19, 30, 56, 172887, tzinfo=TzInfo(UTC))}"
      ]
     },
     "execution_count": 55,
     "metadata": {},
     "output_type": "execute_result"
    }
   ],
   "source": [
    "# place buy put option order\n",
    "# - we can place buy put option order same as buy stock/crypto order\n",
    "symbol='SPY241216C00605000'\n",
    "req = MarketOrderRequest(\n",
    "    symbol = symbol,\n",
    "    qty = 1,\n",
    "    side = OrderSide.SELL,\n",
    "    type = OrderType.MARKET,\n",
    "    time_in_force = TimeInForce.DAY,\n",
    ")\n",
    "res = trading_client.submit_order(req)\n",
    "res"
   ]
  }
 ],
 "metadata": {
  "kernelspec": {
   "display_name": ".venv",
   "language": "python",
   "name": "python3"
  },
  "language_info": {
   "codemirror_mode": {
    "name": "ipython",
    "version": 3
   },
   "file_extension": ".py",
   "mimetype": "text/x-python",
   "name": "python",
   "nbconvert_exporter": "python",
   "pygments_lexer": "ipython3",
   "version": "3.12.2"
  }
 },
 "nbformat": 4,
 "nbformat_minor": 2
}
